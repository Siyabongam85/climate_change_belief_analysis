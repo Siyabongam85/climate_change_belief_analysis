{
 "cells": [
  {
   "cell_type": "code",
   "execution_count": 1,
   "metadata": {},
   "outputs": [],
   "source": [
    "import pandas as pd\n",
    "import numpy as np\n",
    "import spacy\n",
    "import nltk\n",
    "nlp=spacy.load('en_core_web_md')"
   ]
  },
  {
   "cell_type": "code",
   "execution_count": 57,
   "metadata": {},
   "outputs": [],
   "source": [
    "df=pd.read_csv(r\"C:\\Users\\Siyabonga Mtshemla\\Desktop\\train.csv\")"
   ]
  },
  {
   "cell_type": "code",
   "execution_count": 58,
   "metadata": {},
   "outputs": [
    {
     "data": {
      "text/html": [
       "<div>\n",
       "<style scoped>\n",
       "    .dataframe tbody tr th:only-of-type {\n",
       "        vertical-align: middle;\n",
       "    }\n",
       "\n",
       "    .dataframe tbody tr th {\n",
       "        vertical-align: top;\n",
       "    }\n",
       "\n",
       "    .dataframe thead th {\n",
       "        text-align: right;\n",
       "    }\n",
       "</style>\n",
       "<table border=\"1\" class=\"dataframe\">\n",
       "  <thead>\n",
       "    <tr style=\"text-align: right;\">\n",
       "      <th></th>\n",
       "      <th>sentiment</th>\n",
       "      <th>message</th>\n",
       "      <th>tweetid</th>\n",
       "    </tr>\n",
       "  </thead>\n",
       "  <tbody>\n",
       "    <tr>\n",
       "      <th>0</th>\n",
       "      <td>1</td>\n",
       "      <td>PolySciMajor EPA chief doesn't think carbon di...</td>\n",
       "      <td>625221</td>\n",
       "    </tr>\n",
       "    <tr>\n",
       "      <th>1</th>\n",
       "      <td>1</td>\n",
       "      <td>It's not like we lack evidence of anthropogeni...</td>\n",
       "      <td>126103</td>\n",
       "    </tr>\n",
       "    <tr>\n",
       "      <th>2</th>\n",
       "      <td>2</td>\n",
       "      <td>RT @RawStory: Researchers say we have three ye...</td>\n",
       "      <td>698562</td>\n",
       "    </tr>\n",
       "    <tr>\n",
       "      <th>3</th>\n",
       "      <td>1</td>\n",
       "      <td>#TodayinMaker# WIRED : 2016 was a pivotal year...</td>\n",
       "      <td>573736</td>\n",
       "    </tr>\n",
       "    <tr>\n",
       "      <th>4</th>\n",
       "      <td>1</td>\n",
       "      <td>RT @SoyNovioDeTodas: It's 2016, and a racist, ...</td>\n",
       "      <td>466954</td>\n",
       "    </tr>\n",
       "  </tbody>\n",
       "</table>\n",
       "</div>"
      ],
      "text/plain": [
       "   sentiment                                            message  tweetid\n",
       "0          1  PolySciMajor EPA chief doesn't think carbon di...   625221\n",
       "1          1  It's not like we lack evidence of anthropogeni...   126103\n",
       "2          2  RT @RawStory: Researchers say we have three ye...   698562\n",
       "3          1  #TodayinMaker# WIRED : 2016 was a pivotal year...   573736\n",
       "4          1  RT @SoyNovioDeTodas: It's 2016, and a racist, ...   466954"
      ]
     },
     "execution_count": 58,
     "metadata": {},
     "output_type": "execute_result"
    }
   ],
   "source": [
    "df.head()"
   ]
  },
  {
   "cell_type": "code",
   "execution_count": 59,
   "metadata": {},
   "outputs": [
    {
     "data": {
      "text/plain": [
       "15819"
      ]
     },
     "execution_count": 59,
     "metadata": {},
     "output_type": "execute_result"
    }
   ],
   "source": [
    "len(df)"
   ]
  },
  {
   "cell_type": "code",
   "execution_count": 60,
   "metadata": {},
   "outputs": [],
   "source": [
    "blank=[]\n",
    "for i,s,m,t in df.itertuples():\n",
    "    if m.isspace():\n",
    "        blank.append(i)\n",
    "        "
   ]
  },
  {
   "cell_type": "code",
   "execution_count": 61,
   "metadata": {},
   "outputs": [
    {
     "data": {
      "text/plain": [
       "0"
      ]
     },
     "execution_count": 61,
     "metadata": {},
     "output_type": "execute_result"
    }
   ],
   "source": [
    "len(blank)"
   ]
  },
  {
   "cell_type": "code",
   "execution_count": 62,
   "metadata": {},
   "outputs": [],
   "source": [
    "df.drop_duplicates(['message'],inplace=True) "
   ]
  },
  {
   "cell_type": "code",
   "execution_count": 63,
   "metadata": {},
   "outputs": [
    {
     "data": {
      "text/plain": [
       " 1    7222\n",
       " 2    3542\n",
       " 0    2244\n",
       "-1    1221\n",
       "Name: sentiment, dtype: int64"
      ]
     },
     "execution_count": 63,
     "metadata": {},
     "output_type": "execute_result"
    }
   ],
   "source": [
    "df['sentiment'].value_counts() #Clearly we have a class imbalance with the our PRO and ANTI data"
   ]
  },
  {
   "cell_type": "code",
   "execution_count": 73,
   "metadata": {},
   "outputs": [],
   "source": [
    "df['message'].replace(('@\\w{3,}','#\\w{3,}','@[\\w]*:[\\s]','#[\\w]*','RT :',' https://t.…','https://…',' https://t.…',' https://t…',' https://t.cÃ¢â‚¬Â¦','\\W.n{3,}'),'',regex=True,inplace=True)"
   ]
  },
  {
   "cell_type": "code",
   "execution_count": 74,
   "metadata": {},
   "outputs": [],
   "source": [
    "df['message'].replace('((http|https)\\:\\/\\/)?[a-zA-Z0-9\\.\\/\\?\\:@\\-_=#]+\\.([a-zA-Z]){2,6}([a-zA-Z0-9\\.\\&\\/\\?\\:@\\-_=#])*','',regex=True, inplace = True)\n"
   ]
  },
  {
   "cell_type": "code",
   "execution_count": 75,
   "metadata": {},
   "outputs": [
    {
     "data": {
      "text/html": [
       "<div>\n",
       "<style scoped>\n",
       "    .dataframe tbody tr th:only-of-type {\n",
       "        vertical-align: middle;\n",
       "    }\n",
       "\n",
       "    .dataframe tbody tr th {\n",
       "        vertical-align: top;\n",
       "    }\n",
       "\n",
       "    .dataframe thead th {\n",
       "        text-align: right;\n",
       "    }\n",
       "</style>\n",
       "<table border=\"1\" class=\"dataframe\">\n",
       "  <thead>\n",
       "    <tr style=\"text-align: right;\">\n",
       "      <th></th>\n",
       "      <th>sentiment</th>\n",
       "      <th>message</th>\n",
       "      <th>tweetid</th>\n",
       "    </tr>\n",
       "  </thead>\n",
       "  <tbody>\n",
       "    <tr>\n",
       "      <th>0</th>\n",
       "      <td>1</td>\n",
       "      <td>PolySciMajor EPA chief doesn't think carbon di...</td>\n",
       "      <td>625221</td>\n",
       "    </tr>\n",
       "    <tr>\n",
       "      <th>1</th>\n",
       "      <td>1</td>\n",
       "      <td>It's not like we lack evidence ofthropogenic g...</td>\n",
       "      <td>126103</td>\n",
       "    </tr>\n",
       "    <tr>\n",
       "      <th>2</th>\n",
       "      <td>2</td>\n",
       "      <td>Researchers say we have three years to act cl...</td>\n",
       "      <td>698562</td>\n",
       "    </tr>\n",
       "    <tr>\n",
       "      <th>3</th>\n",
       "      <td>1</td>\n",
       "      <td>WIRED : 2016 was a pivotal year the war clima...</td>\n",
       "      <td>573736</td>\n",
       "    </tr>\n",
       "    <tr>\n",
       "      <th>4</th>\n",
       "      <td>1</td>\n",
       "      <td>It's 2016,d a racist, sexist, climate change ...</td>\n",
       "      <td>466954</td>\n",
       "    </tr>\n",
       "  </tbody>\n",
       "</table>\n",
       "</div>"
      ],
      "text/plain": [
       "   sentiment                                            message  tweetid\n",
       "0          1  PolySciMajor EPA chief doesn't think carbon di...   625221\n",
       "1          1  It's not like we lack evidence ofthropogenic g...   126103\n",
       "2          2   Researchers say we have three years to act cl...   698562\n",
       "3          1   WIRED : 2016 was a pivotal year the war clima...   573736\n",
       "4          1   It's 2016,d a racist, sexist, climate change ...   466954"
      ]
     },
     "execution_count": 75,
     "metadata": {},
     "output_type": "execute_result"
    }
   ],
   "source": [
    "df.head()"
   ]
  },
  {
   "cell_type": "code",
   "execution_count": 76,
   "metadata": {},
   "outputs": [
    {
     "name": "stdout",
     "output_type": "stream",
     "text": [
      "👍\n"
     ]
    }
   ],
   "source": [
    "print('\\U0001F44D')"
   ]
  },
  {
   "cell_type": "code",
   "execution_count": 77,
   "metadata": {},
   "outputs": [],
   "source": [
    "import emoji"
   ]
  },
  {
   "cell_type": "code",
   "execution_count": 78,
   "metadata": {},
   "outputs": [],
   "source": []
  },
  {
   "cell_type": "code",
   "execution_count": 79,
   "metadata": {},
   "outputs": [
    {
     "data": {
      "text/plain": [
       "''"
      ]
     },
     "execution_count": 79,
     "metadata": {},
     "output_type": "execute_result"
    }
   ],
   "source": [
    "extract_emojis(df['message'])"
   ]
  },
  {
   "cell_type": "code",
   "execution_count": 80,
   "metadata": {},
   "outputs": [
    {
     "data": {
      "text/html": [
       "<div>\n",
       "<style scoped>\n",
       "    .dataframe tbody tr th:only-of-type {\n",
       "        vertical-align: middle;\n",
       "    }\n",
       "\n",
       "    .dataframe tbody tr th {\n",
       "        vertical-align: top;\n",
       "    }\n",
       "\n",
       "    .dataframe thead th {\n",
       "        text-align: right;\n",
       "    }\n",
       "</style>\n",
       "<table border=\"1\" class=\"dataframe\">\n",
       "  <thead>\n",
       "    <tr style=\"text-align: right;\">\n",
       "      <th></th>\n",
       "      <th>sentiment</th>\n",
       "      <th>message</th>\n",
       "      <th>tweetid</th>\n",
       "    </tr>\n",
       "  </thead>\n",
       "  <tbody>\n",
       "    <tr>\n",
       "      <th>0</th>\n",
       "      <td>1</td>\n",
       "      <td>PolySciMajor EPA chief doesn't think carbon di...</td>\n",
       "      <td>625221</td>\n",
       "    </tr>\n",
       "    <tr>\n",
       "      <th>1</th>\n",
       "      <td>1</td>\n",
       "      <td>It's not like we lack evidence ofthropogenic g...</td>\n",
       "      <td>126103</td>\n",
       "    </tr>\n",
       "    <tr>\n",
       "      <th>2</th>\n",
       "      <td>2</td>\n",
       "      <td>Researchers say we have three years to act cl...</td>\n",
       "      <td>698562</td>\n",
       "    </tr>\n",
       "    <tr>\n",
       "      <th>3</th>\n",
       "      <td>1</td>\n",
       "      <td>WIRED : 2016 was a pivotal year the war clima...</td>\n",
       "      <td>573736</td>\n",
       "    </tr>\n",
       "    <tr>\n",
       "      <th>4</th>\n",
       "      <td>1</td>\n",
       "      <td>It's 2016,d a racist, sexist, climate change ...</td>\n",
       "      <td>466954</td>\n",
       "    </tr>\n",
       "  </tbody>\n",
       "</table>\n",
       "</div>"
      ],
      "text/plain": [
       "   sentiment                                            message  tweetid\n",
       "0          1  PolySciMajor EPA chief doesn't think carbon di...   625221\n",
       "1          1  It's not like we lack evidence ofthropogenic g...   126103\n",
       "2          2   Researchers say we have three years to act cl...   698562\n",
       "3          1   WIRED : 2016 was a pivotal year the war clima...   573736\n",
       "4          1   It's 2016,d a racist, sexist, climate change ...   466954"
      ]
     },
     "execution_count": 80,
     "metadata": {},
     "output_type": "execute_result"
    }
   ],
   "source": [
    "df.head()"
   ]
  },
  {
   "cell_type": "code",
   "execution_count": null,
   "metadata": {},
   "outputs": [],
   "source": []
  },
  {
   "cell_type": "code",
   "execution_count": 81,
   "metadata": {},
   "outputs": [
    {
     "name": "stdout",
     "output_type": "stream",
     "text": [
      " Macron: My charm may have changed Trump's mind climate change  \n",
      "Chris: Who is it then thatitially talked about climate change?\n",
      "Me: * thinked for three seconds * ... The EuropeaÃ¢â‚¬Â¦ \n",
      "Do you approve of the executive order  is due to sign re climate changed thevironment?\n",
      "\n",
      "\n",
      "Trump doesn't believe global warmingd he's going to be the President of theited States of America.... fuck\n",
      " Irony: Florida, a state danger of being washed away due to rising sea levels, just elected a guy who denies climate changeÃ¢â‚¬Â¦\n",
      " lmao 😂owflakes ❄️ complaining aboutowflakes ❄️ winter =global warming 🤦‍♂️\n",
      " This is ONE of Arnold Schwarzenegger's vehicles. He is now whining about climate change.\n",
      "How's his  or\n",
      "http…\n",
      " They are calling to the great Space Cylinder to save them from global warming.\n",
      " Pollution fromdiad China has reached the stratosphere, which could speed up global warming… \n",
      " The  lays out how citiesd subnational bodies can finance solutions to climate changeÃ¢â‚¬Â¦\n",
      "These House Republicans say climate change is reald it’s time to fight it | By \n",
      "\n",
      "But global warming is a hoax though. \n",
      " NYT reviewed a draft climate change rpt by fed scientists directly contradicting the admin's global warming claims. https…\n",
      "   tarctica is so big lmao how is global warming real like nigga just use Air conditioner\n",
      "My two cents the global political leadership climate change a trump era \n",
      " UK government signs Paris Agreement, world's first comprehensive treaty tackling climate change Ã¢â‚¬Â¦\n",
      " China tells Trump that climate change isn't a hoax itvented  via  Lol, China schooling TÃ¢â‚¬Â¦\n",
      " Here are the races to watch if you care about global warming  \n",
      "  These icebreaking ships are the primary cause of climate change. Let the arctic freeze over, &amp; stay away from there!\n",
      "If global warming doesn't exist, why is club penguin shutting down? \n",
      " Need economists tocorporate the reality of climate change their thinking &amp; we all need to listen, …\n",
      " As we fight for human rights, we're also facing the disastrous impacts of climate change. …\n",
      " Is climate change real? \n",
      " There is no question climate change is man-made. If you have doubts,d haven't seenconvenient truth, please…\n",
      " the process of climate change. It occurs naturally, but not at these extreme levels. We'll eventually have severe droughts,\n",
      " Neoliberalism has conned usto fighting climate change asdividuals | Martin Lukacs \n",
      " MUST READ: Rick Perry ordered Texas legislature to kill bill requiring state agencies to prepare for climate change https:…\n",
      " We have a president-elect who doesnÃ¢â‚¬â„¢t believe climate change. ThatÃ¢â‚¬â„¢s frightening for this countryd the world.\n",
      "So hot due to global warming\n",
      " We've a few short term opps working climate change &amp;ergy. Send us your CV or Q's  …\n",
      " Federgyvt Minister  refused to allow term 'climate change' ergy Council Communique despit…\n",
      " the fact that Leonardo DiCaprio met with trump to discuss climate change.. a MAN\n",
      " Google Earth’s Timelapse update illustrates 30 years of climate change  \n",
      " HRC proposesstalling half a billion solar panels by thed of her first term. Trump thinks climate change is a hoaxÃ¢â‚¬Â¦\n",
      " \n",
      "EVERYONE must watch this!! people mustderstand global warming is very real  \n",
      "\n",
      "If this doesn't shake you up about climate change, then nothing ever will. \n",
      " SERC's Roy Rich &amp; colleagues create a buzz Germany for their global warming simulation: …\n",
      " NOAA Report: 2016 wasd hottest year history.e more reason to fight climate change deniers Trump Admin &gt;…\n",
      "conservatives just love denying science huh? from climate change to believing that fertilization of egg = automatic human life.\n",
      "senior air qualityd climate change specialist: As a Senior Air…    \n",
      "Come check out our events about climate change!  \n",
      "To think 200 million could have gone towards alleviating poverty, reducing climate change or improving healthcare, call me mad but...\n",
      " Its a protest against global warming. The are not stupid.\n",
      " As Trump decides Paris,  &amp; I team up  to warn about climate changed epidemics: https:…\n",
      " Lack of  change action can potentially hurt future  jobs. \n",
      "“Yetother Trump advisor is clueless climate change” by  \n",
      " agency chief says humans contribute to global warming - \n",
      "So we have a director of EPA who is a climate change denier. No a coal lobbies to as deputy EPA … \n",
      " The Chinese just broke massive icebergtarctica as part of their global warming hoax.\n",
      " Where are Rex Tillerson’s climate change emails?\n",
      "\n",
      " If global warming isn't real why did club penguin shut down\n",
      " 500,000 doctors agree: climate change is making us sick   …\n",
      " our president think climate change is a hoax made by the chinese &amp; our vice president thinks being gay is a curable disease.Ã¢â‚¬Â¦\n",
      "80% of GHG via resevoirs are methane. Resevoirs play a substantial role global warming.  \n",
      " Why is thereow March if we have global warming?\n",
      " iversities have aiquely important role to play the battle against climate change” \n",
      " Are we looking at America that officially believes climate change is a hoax? Sorry, everybody else.\n",
      " Ten of the ugliestimals threatened by climate change  \n",
      "  You fucking idiot! I'm a geologist &amp; studied climate change college &amp; co-authored two papers it - IT'S REAL!!!\n",
      "can someone pls explain to me why it's -37 march,,,, global warming who??\n",
      " Watch  right here, as  travels the world to tackle climate change  httÃ¢â‚¬Â¦\n",
      " Meat production is a leading cause of climate change, water waste, deforestation, &amp; extinction. ¢â‚¬Â¦\n",
      "Explain that my global warming advocates. \n",
      "Syfy's corporated' imagines future ravaged by climate change  via  \n",
      " wow wow finally climate change is not the evil now you wake up. Good\n",
      " {Audio Article }vironment }\n",
      "After Trump`s decision what will be the form of Paris climate change agreement?\n",
      "https:…\n",
      " White House budget proposal climate change: 'We’re not spending money thatymore.' \n",
      " kinda funny the professors talk shit trumpsters=omg f them. scientist 'climate change' trumpserst= idots. Kinda shows his base🤔\n",
      " he is literally a climate change  our planet \n",
      "  what about climate change? It's very real but youly care about $$$$\n",
      " Imagine trying to convince yourself that global warming isn't realdstead a conspiracy. Wake up, before it's tÃ¢â‚¬Â¦\n",
      " So he IS saying climate change is a hoax,d every major scientific organization is a it?\n",
      "  Dems are causing global warming... \n",
      " New global warming study is terrible news for alarmists, good news for plants, \n",
      "Follow  if you want to hear more about what A/Vd digital archivists can do about climate change activism \n",
      "If you don't believe climate change, then look at the polar bears that are going extinct, because they have no land to live.\n",
      "Air pollution deaths expected to rise due to climate change -  \n",
      "Labour, budgetingd climate change (2) - The Punch   - \n",
      "We don't have to hearti-vaccers/climate change deniers/ACA killers out. Stop using your stupidity to tryd kil… \n",
      "Reader questions science of climate change theories ..  \n",
      "See the impacts of global warming \n",
      "One way to avert climate change. The world should apply the method. \n",
      " New Catholic priests expected to preach global warming to congregations, report says | … \n",
      " Meet ChinaÃ¢â‚¬â„¢s 'ecological migrants': 320,000 people displaced by climate change Ã¢â‚¬Â¦\n",
      "China warns Trump against abandoning climate change deal  via @FT\n",
      "Science to the rescue as climate change threatens chocolate via New Europe \n",
      " People who believe climate change also generally refuse to say that trans isn't real out loud so... You're no better.\n",
      " It's 90 degrees early November Losgeles, but youow  to Trump global warmingd climate changeÃ¢â‚¬Â¦\n",
      "Come &amp; hear more about climate changedtarctica   … \n",
      "The youths being almost 60% of Kenya's pop' are best line of defense against climate change &amp; food security\n",
      " \n",
      " You're not going to get away with this, we are going to call you out every single time. All pages are gonec. fake climate change\n",
      " Trump wants tod NASA climate change research as real estate markets start to slump due to climate change …\n",
      " I'm not worried about global warming but I'm terrified about global government.\n",
      " CNN panelists erupt over climate change - CNN Video Time to call out lies of Trump, Koch Brothers,d Heritage.\n",
      "@VP  Ask them to explain climate change to you.\n",
      " the way seokjin blinks is so adorable \n",
      "global warming stops\n",
      "trees grow \n",
      "crime rate decreases \n",
      "I'm worried for our planet, Trump will do nothing for climate change\n",
      "Effect of methane climate change could be 25% greater than we thought  via \n",
      " Governments of several world powers are failing us climate change. We need to act without them if we wanty hope for tÃ¢â‚¬Â¦\n",
      " Asked if charges that  withheldformation climate change,  declines toswer twice. …\n",
      " I stand with  saying that California will not back down climate change. \n",
      "\n",
      " Have u considered doing a piece about it your column Steve?form ppl re impact of climate change species &amp; habitats\n",
      " Was already out after climate change denial, but either of the above would do, which is my loss as well\n",
      "Quiz US cultural heritage-climate change! (disclaimer: I don't agree w. all theswers, but stillteresting) \n",
      " Don't worry, it's just the natural process ofthropogenic climate change rendering the earthinhabitable\n",
      "Look who's back town!d thank you, global warming Ã¢â‚¬â€œjoying a quick trip to Brown County State Park this 75 degree November day!\n",
      " the 5 horsemen of the apocalypse; Famine, war, death, pestilence,d global warming.\n",
      "global warming is a hoax perpetrated by the chinese.\n",
      " US federal department is censoring use of term 'climate change', emails reveal | By  …\n",
      "    Could someone link me the journal for his reviewed article climate change? Isnte?\n",
      "guess I have global warming to thank\n",
      " So Trump went to Ivankad a reporter forsights climate change. Not scientists. Two women with no expertis…\n",
      "Conservative columnistder siege after N.Y. Times debut climate change' via FOX NEWS \n",
      " Pakistan is the 5th most vulnerable country terms of climate change. Whats our most experienced Prime Minister has to say about…\n",
      "mei mains against global warming\n",
      " Trump's budget director just said combating climate change is a 'waste of money’ \n",
      " Weock ourselves out over Brexitd Trump but I think climate change will bury both of those issues-But I really hope I'm w…\n",
      "U.S. to world climate change: DROP DEAD. Nobel scientist: Such ignorance is 'shocking,' \n",
      "Trudeau must put emphasis defence if he wants Trumpside for trade, climate change  via \n",
      " Physicist - CO2 does not cause climate change, it RESPONDS to it - Video \n",
      " If you donÃ¢â‚¬â„¢t believe man-made global warming is a a silly issue, give to the Natural Resources Defense Council (https:Ã¢â‚¬Â¦\n",
      " Rahm Emanuel posts climate change webpage deleted by Trump administration  \n",
      " Soon the alt-right will be blamed for global warmingd gingivitis \n",
      " Followed closely by climate change deniersd Wall Street executives.\n",
      "Agreed! Man-made climate change is a man-made hoax,nit? \n",
      " is a call to take urgent action to combat  changed its impacts. Join the movement:Ã¢â‚¬Â¦ \n",
      "  Me (to my 14 yo kid): do you believe climate change?\n",
      "Kid: It's a scientific fact, so it doesn't matte…\n",
      "  But why a carbon tax? Isn't all that climate change stuff is hokum?\n",
      " Historic coal fall may have profound impact global efforts to tackle climate change  …\n",
      "When China calls out Donald Trump climate change, youow itÃ¢â‚¬â„¢s bad \n",
      " Leading global warming deniers just told us what they want trump to do  via \n",
      " 'ExxonMobil has a long history of peddling misinformation climate change.'    https…\n",
      "   RT West Coast states to fight climate change even if Trump does not. …\n",
      " U.S. Secretary of State, Rex Tillerson signs Arctic agreement for action  change:tinuclear …\n",
      "Stephen Hawking has a message for Trump: Don't ignore climate change  \n",
      "e of Jamaica’s iconic beaches is vanishing thanks to climate change. …\n",
      " Apart from taking us to the brink of recession, doubling the deficitd making us a pariah refugees &amp; climate change, th…\n",
      " Fed scientist cooked climate change books ahead of Obama presentation \n",
      "\n",
      "\n",
      " \n",
      "http…\n",
      "e of the easiest ways to help combat climate change your daily life is to stop eating beef. Here's why:Ã¢â‚¬Â¦\n",
      "Effects of climate change \n",
      " With a denier the White House, how do we deal with the global warming catastrophe that threatens 7.5 billion of us withÃ¢â‚¬Â¦\n",
      " Effects of climate change may 'wreak havoc' mental health, doctors say  via \n",
      "How do people argue climate change??\n",
      " When you hear Trump's new EPA director says carbon doesn't cause climate change.  …\n",
      " The people who predicted parts of Manhattan would bederwater by 2008 due to climate change are concerned about 'fakeÃ¢â‚¬Â¦\n",
      " Brace yourself for a bitterly cold winter, as climate change shifts the polar vortex \n",
      " How much global warming will  blueprint stop by 2100?\n",
      "\n",
      "None? So why would we dedustrialise our economy fo…\n",
      " China tells Trump climate change isn't a hoax itvented  \n",
      " why can't we agree that climate change is our numbere priority\n",
      "  scientistsd studies. just as global  that they choose to show us thees they like htt…\n",
      " Saskatchewan AG: Provincial govt has no plan, policies or target to address climate change  …\n",
      "They asked me what myspiration was- I told em global warming............😂🔥🌎❄️\n",
      " Exxon shareholders have moved to force the company to disclose the risk climate change poses to its business…\n",
      " We must stop treating the effects of climate change as some far off doomsday. They are here, they are now.\n",
      "\n",
      "https://t.…\n",
      "I think I just solved the climate change problem. I just told my kids 'Don't fix global warming.' Now we just sit backd wait. \n",
      " World leaders reaffirm their commitment to climate changed the .  Ã¢â‚¬Â¦\n",
      " I think that's global warming not christmas \n",
      " John Roughan: We will miss a sceptical voice  change: New Zealand Herald  \n",
      " Not that climate change is real orything, but it's 75 Columbus, OH right now... November. \n",
      "Rex Tillerson refuses to admit  about climate change decades ago.  via \n",
      " Just talk about climate change says  - it'll make you feel better about it. Go then - have a read …\n",
      " join us tomorrow for  event  context of climate change. key message: protectd empower…\n",
      " How to boost funding for developing countries to adapt to the effects of climate change is a key issue at :Ã¢â‚¬Â¦\n",
      " Listen, folks to a STORY,\n",
      "about the evil twin,\n",
      "of climate change.\n",
      "\n",
      "The oceans ACID.\n",
      "\n",
      "… \n",
      " China to Trump: climate change is not a Chinese hoax  Ã¢Å¾Â¡Ã¯Â¸ï†  \n",
      " Apple is borrowing $1 billion to fight climate change  \n",
      " CDC abruptly cancels long-planned conference climate changed health: \n",
      "Tell us your story now about climate change our story contest!  \n",
      " \n",
      " climate change is \n",
      " A river Canada just turned to piracy because of global warming  \n",
      " Good news that  is looking to ditch the Paris agreementd bust open the climate change   ¢â‚¬Â¦\n",
      " People still don't believe global warming ��‍♂️ what can we do especially with the president pulling out of the P…\n",
      "Please RT   Is it too late to reverse global warming&amp;quot; This is what scientists have to...… \n",
      " AND this motherfucker doesn't believe climate change i-\n",
      " More than 190 countries just subtweeted Trump global warming \n",
      "   at least Obama isn't a Christian-extremist who thinks global warming &amp; evolution are hoaxes.\n",
      " Frogs heading uphill to escape  change.   \n",
      "\n",
      "US climate change campaigner diesorkeling at   \n",
      " Well the plus side, climate change isn't realymore.\n",
      " kalem2i karena faktor global warming. Air laut naik\n",
      " US sends “much smaller” team to climate talks Bonn | Climate Home - climate change news  http…\n",
      "Conversation will go 'morning Arthur, cold out.' 'Yes mal, global warming obviously fake' 'Agreed Arthur, who's thi… \n",
      " 'Although climate change can be a scary topic, ice can besanely,imaginably beautiful.' httpsÃ¢â‚¬Â¦\n",
      " You want 2 be everyone's president? How about doing something progressive for us? Fight climate changed protect thev.\n",
      "Exxon, thely hero of global warming, kicked saving the Earth but selected money\n",
      " \n",
      "Impacts of climate changeclude: job losses, businessterruptions, worsening working...  by  via \n",
      " i think the numbere thing that bothers me about trump being president is that he's going to defund climate change reÃ¢â‚¬Â¦\n",
      " Climate change whistleblower alleges NOAA manipulated data to hide global warming 'pause' -  …\n",
      " At Exxon, Rex Tillerson reportedly used alias for emails about climate change. Read more:  $XOM\n",
      " I can't believe there are politicians who believe that climate change is fake.d these are the people working for ourÃ¢â‚¬Â¦\n",
      " the global warming is caused by her cabbage farts\n",
      "I was thinking the same thing. Same goes with climate change when there are other important issues that effect Amer… \n",
      " Brilliant cartoon sums up  decision to cancel  climate change policies! …\n",
      "  It gets youd to poverty New Zealand. It gets you clean waterd action climate change.\n",
      "Adam  maakte al 923 keer zijno agenda show'  \n",
      "\n",
      "leuk!fo over 'global warming'… \n",
      "  people who don't believe global warming explain this\n",
      " They'll tell you theyre doing it to save you from global warming. Theyre lying  \n",
      " Sea turtles have been around for 150 million years but the pace of climate change is existential challenge.Ã¢â‚¬Â¦\n",
      " Hey! We have a new board for bouncing ideas climate change, are youterested? \n",
      "erry The real reason to fight climate change  ccol \n"
     ]
    }
   ],
   "source": [
    "for x in df['message'][50:250]:\n",
    "    print(x)\n",
    "    \n"
   ]
  },
  {
   "cell_type": "code",
   "execution_count": null,
   "metadata": {},
   "outputs": [],
   "source": []
  },
  {
   "cell_type": "code",
   "execution_count": null,
   "metadata": {},
   "outputs": [],
   "source": []
  }
 ],
 "metadata": {
  "kernelspec": {
   "display_name": "Python 3",
   "language": "python",
   "name": "python3"
  },
  "language_info": {
   "codemirror_mode": {
    "name": "ipython",
    "version": 3
   },
   "file_extension": ".py",
   "mimetype": "text/x-python",
   "name": "python",
   "nbconvert_exporter": "python",
   "pygments_lexer": "ipython3",
   "version": "3.7.3"
  }
 },
 "nbformat": 4,
 "nbformat_minor": 2
}
